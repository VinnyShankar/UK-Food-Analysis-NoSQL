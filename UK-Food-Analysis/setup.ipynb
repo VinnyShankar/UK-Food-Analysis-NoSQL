{
 "cells": [
  {
   "attachments": {},
   "cell_type": "markdown",
   "metadata": {},
   "source": [
    "# Eat Safe, Love"
   ]
  },
  {
   "attachments": {},
   "cell_type": "markdown",
   "metadata": {},
   "source": [
    "## Part 1: Database and Jupyter Notebook Set Up"
   ]
  },
  {
   "attachments": {},
   "cell_type": "markdown",
   "metadata": {},
   "source": [
    "Terminal command to import the dataset: `mongoimport --type json -d uk_food -c establishments --drop --jsonArray establishments.json`\n",
    "\n",
    "Inline command to import the dataset: `!mongoimport --type json -d uk_food -c establishments --drop --jsonArray Resources/establishments.json`"
   ]
  },
  {
   "cell_type": "code",
   "execution_count": 1,
   "metadata": {},
   "outputs": [
    {
     "name": "stderr",
     "output_type": "stream",
     "text": [
      "2023-05-19T23:16:51.803-0700\tconnected to: mongodb://localhost/\n",
      "2023-05-19T23:16:51.805-0700\tdropping: uk_food.establishments\n",
      "2023-05-19T23:16:54.804-0700\t[######################..] uk_food.establishments\t37.6MB/39.3MB (95.7%)\n",
      "2023-05-19T23:16:54.943-0700\t[########################] uk_food.establishments\t39.3MB/39.3MB (100.0%)\n",
      "2023-05-19T23:16:54.943-0700\t39779 document(s) imported successfully. 0 document(s) failed to import.\n"
     ]
    }
   ],
   "source": [
    "# Import the dataset\n",
    "!mongoimport --type json -d uk_food -c establishments --drop --jsonArray Resources/establishments.json"
   ]
  },
  {
   "cell_type": "code",
   "execution_count": 2,
   "metadata": {},
   "outputs": [],
   "source": [
    "# Import dependencies\n",
    "from pymongo import MongoClient\n",
    "from pprint import pprint"
   ]
  },
  {
   "cell_type": "code",
   "execution_count": 3,
   "metadata": {},
   "outputs": [],
   "source": [
    "# Create an instance of MongoClient\n",
    "mongo = MongoClient(port=27017)"
   ]
  },
  {
   "cell_type": "code",
   "execution_count": 4,
   "metadata": {},
   "outputs": [
    {
     "name": "stdout",
     "output_type": "stream",
     "text": [
      "Database found: uk_food\n"
     ]
    }
   ],
   "source": [
    "# Confirm presence of new database\n",
    "db_names = mongo.list_database_names()\n",
    "db_to_check = \"uk_food\"\n",
    "if db_to_check in db_names:\n",
    "    print(f\"Database found: {db_to_check}\")\n",
    "else:\n",
    "    print(\"Database not found\")"
   ]
  }
 ],
 "metadata": {
  "kernelspec": {
   "display_name": "PythonData",
   "language": "python",
   "name": "python3"
  },
  "language_info": {
   "codemirror_mode": {
    "name": "ipython",
    "version": 3
   },
   "file_extension": ".py",
   "mimetype": "text/x-python",
   "name": "python",
   "nbconvert_exporter": "python",
   "pygments_lexer": "ipython3",
   "version": "3.10.11"
  },
  "orig_nbformat": 4
 },
 "nbformat": 4,
 "nbformat_minor": 2
}
